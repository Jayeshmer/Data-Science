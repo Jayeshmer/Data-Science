{
 "cells": [
  {
   "cell_type": "code",
   "execution_count": 1,
   "id": "c9e4fc7f-3347-40bf-b247-b9e370b2df2c",
   "metadata": {},
   "outputs": [
    {
     "name": "stdout",
     "output_type": "stream",
     "text": [
      "Hello Jayesh Khistaria\n"
     ]
    }
   ],
   "source": [
    "print(\"Hello Jayesh Khistaria\")"
   ]
  },
  {
   "cell_type": "code",
   "execution_count": 2,
   "id": "dbbee452-224f-49ce-9a4f-8cd9b8717e59",
   "metadata": {},
   "outputs": [
    {
     "name": "stdout",
     "output_type": "stream",
     "text": [
      "Data science world\n"
     ]
    }
   ],
   "source": [
    "print(\"Data science world\")"
   ]
  },
  {
   "cell_type": "code",
   "execution_count": 3,
   "id": "fc8d477b-dd75-4202-b4d2-7ae83084c423",
   "metadata": {},
   "outputs": [
    {
     "data": {
      "text/plain": [
       "42"
      ]
     },
     "execution_count": 3,
     "metadata": {},
     "output_type": "execute_result"
    }
   ],
   "source": [
    "12+30"
   ]
  },
  {
   "cell_type": "code",
   "execution_count": null,
   "id": "91da0c3e-845f-48c7-9108-9a72e46238ec",
   "metadata": {},
   "outputs": [],
   "source": []
  }
 ],
 "metadata": {
  "kernelspec": {
   "display_name": "Python 3 (ipykernel)",
   "language": "python",
   "name": "python3"
  },
  "language_info": {
   "codemirror_mode": {
    "name": "ipython",
    "version": 3
   },
   "file_extension": ".py",
   "mimetype": "text/x-python",
   "name": "python",
   "nbconvert_exporter": "python",
   "pygments_lexer": "ipython3",
   "version": "3.11.7"
  }
 },
 "nbformat": 4,
 "nbformat_minor": 5
}
